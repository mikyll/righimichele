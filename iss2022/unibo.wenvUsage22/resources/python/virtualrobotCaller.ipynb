{
 "cells": [
  {
   "cell_type": "code",
   "execution_count": 11,
   "metadata": {},
   "outputs": [
    {
     "name": "stdout",
     "output_type": "stream",
     "text": [
      "b'{\"robotmove\": \"turnRight\", \"time\": 300}'\n",
      "b'{\"endmove\":true,\"move\":\"turnRight\"}'\n",
      "BYE\n"
     ]
    }
   ],
   "source": [
    "##############################################################\n",
    "# virtualrobotCaller.py\n",
    "##############################################################\n",
    "## import socket\n",
    "import time\n",
    "import http.client\n",
    "import urllib.request\n",
    "from urllib import request, parse\n",
    "import json\n",
    "\n",
    "def workGet() :\n",
    "    f = urllib.request.urlopen(\"http://localhost:8090\")\n",
    "    print(f.read())\n",
    "def workPost() :\n",
    "    # Data dict\n",
    "    data =  {\"robotmove\":\"turnRight\", \"time\": 300}   \n",
    "    # Dict to Json\n",
    "    data = json.dumps(data)\n",
    "    # Convert to String\n",
    "    data = str(data)\n",
    "    # Convert string to byte\n",
    "    data = data.encode('utf-8')    \n",
    "    print( data )\n",
    "    req =  request.Request(\"http://localhost:8090/api/move\",  data=data) # this will make the method \"POST\"\n",
    "    resp = request.urlopen(req)  \n",
    "    print(resp.read())\n",
    "    \n",
    "\n",
    "\n",
    "###########################################    \n",
    "workPost()\n",
    "##workGet()\n",
    "terminate()  \n"
   ]
  },
  {
   "cell_type": "code",
   "execution_count": null,
   "metadata": {},
   "outputs": [],
   "source": []
  },
  {
   "cell_type": "code",
   "execution_count": null,
   "metadata": {},
   "outputs": [],
   "source": []
  }
 ],
 "metadata": {
  "kernelspec": {
   "display_name": "Python 3",
   "language": "python",
   "name": "python3"
  },
  "language_info": {
   "codemirror_mode": {
    "name": "ipython",
    "version": 3
   },
   "file_extension": ".py",
   "mimetype": "text/x-python",
   "name": "python",
   "nbconvert_exporter": "python",
   "pygments_lexer": "ipython3",
   "version": "3.8.8"
  }
 },
 "nbformat": 4,
 "nbformat_minor": 2
}
